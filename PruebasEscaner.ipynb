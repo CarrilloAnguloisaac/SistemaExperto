{
 "cells": [
  {
   "cell_type": "markdown",
   "metadata": {},
   "source": [
    "## Analizador Lexico\n",
    "Un analizador lexico transforma una entrada en tokens"
   ]
  },
  {
   "cell_type": "code",
   "execution_count": 37,
   "metadata": {},
   "outputs": [],
   "source": [
    "entrada = \"Si si es de dia entonces mañana no es de noche\""
   ]
  },
  {
   "cell_type": "code",
   "execution_count": 38,
   "metadata": {},
   "outputs": [
    {
     "data": {
      "text/plain": [
       "['si',\n",
       " 'si',\n",
       " 'es',\n",
       " 'de',\n",
       " 'dia',\n",
       " 'entonces',\n",
       " 'mañana',\n",
       " 'no',\n",
       " 'es',\n",
       " 'de',\n",
       " 'noche']"
      ]
     },
     "execution_count": 38,
     "metadata": {},
     "output_type": "execute_result"
    }
   ],
   "source": [
    "tokens = entrada.lower().split()\n",
    "tokens"
   ]
  },
  {
   "cell_type": "code",
   "execution_count": 39,
   "metadata": {},
   "outputs": [],
   "source": [
    "from enum import Enum\n",
    "\n",
    "class TipoToken(Enum):\n",
    "    O = 1\n",
    "    Y = 2\n",
    "    S = 3\n",
    "    N = 4\n",
    "    E = 5\n",
    "    P = 6"
   ]
  },
  {
   "cell_type": "code",
   "execution_count": 40,
   "metadata": {},
   "outputs": [
    {
     "data": {
      "text/plain": [
       "[{'valor': 'si', 'tipo': <TipoToken.S: 3>},\n",
       " {'valor': 'si', 'tipo': <TipoToken.S: 3>},\n",
       " {'valor': 'es', 'tipo': <TipoToken.P: 6>},\n",
       " {'valor': 'de', 'tipo': <TipoToken.P: 6>},\n",
       " {'valor': 'dia', 'tipo': <TipoToken.P: 6>},\n",
       " {'valor': 'entonces', 'tipo': <TipoToken.E: 5>},\n",
       " {'valor': 'mañana', 'tipo': <TipoToken.P: 6>},\n",
       " {'valor': 'no', 'tipo': <TipoToken.N: 4>},\n",
       " {'valor': 'es', 'tipo': <TipoToken.P: 6>},\n",
       " {'valor': 'de', 'tipo': <TipoToken.P: 6>},\n",
       " {'valor': 'noche', 'tipo': <TipoToken.P: 6>}]"
      ]
     },
     "execution_count": 40,
     "metadata": {},
     "output_type": "execute_result"
    }
   ],
   "source": [
    "\n",
    "lexemas = []\n",
    "for token in tokens:\n",
    "    if token == 'o':\n",
    "        lexemas.append({\"valor\" : token , \"tipo\": TipoToken.O })\n",
    "    elif token == 'y':\n",
    "        lexemas.append({\"valor\" : token , \"tipo\": TipoToken.Y})\n",
    "    elif token == 'si':\n",
    "        lexemas.append({\"valor\" : token , \"tipo\": TipoToken.S})\n",
    "    elif token == 'entonces':\n",
    "        lexemas.append({\"valor\" : token , \"tipo\": TipoToken.E})\n",
    "    elif token == 'no':\n",
    "        lexemas.append({\"valor\" : token , \"tipo\": TipoToken.N})\n",
    "    else :\n",
    "        lexemas.append({\"valor\" :token , \"tipo\": TipoToken.P })\n",
    "        \n",
    "lexemas"
   ]
  },
  {
   "cell_type": "markdown",
   "metadata": {},
   "source": [
    "## Analizador Sintactico"
   ]
  },
  {
   "cell_type": "markdown",
   "metadata": {},
   "source": []
  },
  {
   "cell_type": "code",
   "execution_count": 41,
   "metadata": {},
   "outputs": [],
   "source": [
    "class EstadosAnalizador(Enum):\n",
    "    INICIO = 1\n",
    "    PRECEDENTE = 2\n",
    "    ERROR1 = 3\n",
    "    NEGACION = 4\n",
    "    CONSECUENTE = 5\n",
    "    ATOMO = 6\n",
    "    DISYUNCION = 7\n",
    "    CONJUNCION = 8\n",
    "    ERROR2 = 9\n",
    "    FIN = 10"
   ]
  },
  {
   "cell_type": "code",
   "execution_count": 42,
   "metadata": {},
   "outputs": [
    {
     "name": "stdout",
     "output_type": "stream",
     "text": [
      "La frase contiene un error sintáctico.\n"
     ]
    }
   ],
   "source": [
    "def analizador_sintactico(lexemas):\n",
    "    EstadoActual = EstadosAnalizador.INICIO\n",
    "\n",
    "    for lexema in lexemas:\n",
    "        if EstadoActual == EstadosAnalizador.INICIO:\n",
    "            if lexema['valor'] == \"si\":\n",
    "                EstadoActual = EstadosAnalizador.PRECEDENTE\n",
    "            else:\n",
    "                EstadoActual = EstadosAnalizador.ERROR1\n",
    "        elif EstadoActual == EstadosAnalizador.PRECEDENTE:\n",
    "            if lexema['valor'] == \"no\":\n",
    "                EstadoActual = EstadosAnalizador.NEGACION\n",
    "            elif lexema['valor'] == \"es\":\n",
    "                EstadoActual = EstadosAnalizador.CONSECUENTE\n",
    "            else:\n",
    "                EstadoActual = EstadosAnalizador.ERROR2\n",
    "        elif EstadoActual == EstadosAnalizador.NEGACION:\n",
    "            if lexema['valor'] == \"de\":\n",
    "                EstadoActual = EstadosAnalizador.ATOMO\n",
    "            else:\n",
    "                EstadoActual = EstadosAnalizador.ERROR2\n",
    "        elif EstadoActual == EstadosAnalizador.CONSECUENTE:\n",
    "            if lexema['valor'] == \"de\":\n",
    "                EstadoActual = EstadosAnalizador.ATOMO\n",
    "            else:\n",
    "                EstadoActual = EstadosAnalizador.ERROR2\n",
    "        elif EstadoActual == EstadosAnalizador.ATOMO:\n",
    "            if lexema['valor'] == \"entonces\":\n",
    "                EstadoActual = EstadosAnalizador.FIN\n",
    "            elif lexema['valor'] == \"y\":\n",
    "                EstadoActual = EstadosAnalizador.CONJUNCION\n",
    "            elif lexema['valor'] == \"o\":\n",
    "                EstadoActual = EstadosAnalizador.DISYUNCION\n",
    "        elif EstadoActual == EstadosAnalizador.CONJUNCION:\n",
    "            if lexema['valor'] == \"de\":\n",
    "                EstadoActual = EstadosAnalizador.ATOMO\n",
    "            else:\n",
    "                EstadoActual = EstadosAnalizador.ERROR2\n",
    "        elif EstadoActual == EstadosAnalizador.DISYUNCION:\n",
    "            if lexema['valor'] == \"de\":\n",
    "                EstadoActual = EstadosAnalizador.ATOMO\n",
    "            else:\n",
    "                EstadoActual = EstadosAnalizador.ERROR2\n",
    "        elif EstadoActual == EstadosAnalizador.ERROR1:\n",
    "            break\n",
    "        elif EstadoActual == EstadosAnalizador.ERROR2:\n",
    "            break\n",
    "        elif EstadoActual == EstadosAnalizador.FIN:\n",
    "            break\n",
    "\n",
    "    if EstadoActual == EstadosAnalizador.FIN:\n",
    "        print(\"La frase fue bien escrita.\")\n",
    "    else:\n",
    "        print(\"La frase contiene un error sintáctico.\")\n",
    "\n",
    "    return EstadoActual\n",
    "\n",
    "# Ejecución del analizador sintáctico\n",
    "estado_final = analizador_sintactico(lexemas)"
   ]
  },
  {
   "cell_type": "code",
   "execution_count": 43,
   "metadata": {},
   "outputs": [
    {
     "name": "stdout",
     "output_type": "stream",
     "text": [
      "Estado final: EstadosAnalizador.ERROR2\n"
     ]
    }
   ],
   "source": [
    "print(\"Estado final:\", estado_final)\n",
    "    "
   ]
  },
  {
   "cell_type": "markdown",
   "metadata": {},
   "source": [
    "#Arboles\n"
   ]
  },
  {
   "cell_type": "code",
   "execution_count": 44,
   "metadata": {},
   "outputs": [
    {
     "name": "stdout",
     "output_type": "stream",
     "text": [
      "Aquí están las frases que empiezan con 'Si':\n",
      "Si el sol es negro o la luna es blanca.\n",
      "Si la luna es blanca, el sol no puede ser blanco.\n",
      "Si el sol y la luna son blancos no es de día.\n",
      "Si la luna no es blanca, entonces el sol es blanco.\n",
      "Si el sol es amarillo, entonces la luna no puede ser amarilla.\n",
      "\n",
      "Aquí están las frases que no empiezan con 'Si':\n",
      "Cuando el sol es blanco, la luna no puede ser blanca.\n",
      "La luna es blanca entonces, el sol no puede ser blanco.\n",
      "la luna es negra o el sol es negro.\n",
      "El sol o la luna no pueden ser ambos negros.\n",
      "El sol es amarillo y la luna es negra.\n"
     ]
    }
   ],
   "source": [
    "class Nodo: \n",
    "    def __init__(self, regla):\n",
    "        self.regla = regla\n",
    "        self.izquierda = None\n",
    "        self.derecha = None\n",
    "\n",
    "\n",
    "nodo1 = Nodo(\"El sol es amarillo y la luna es negra.\")\n",
    "nodo2 = Nodo(\"Si el sol es amarillo, entonces la luna no puede ser amarilla.\")\n",
    "nodo3 = Nodo(\"La luna es blanca entonces, el sol no puede ser blanco.\")\n",
    "nodo4 = Nodo(\"Cuando el sol es blanco, la luna no puede ser blanca.\")\n",
    "nodo5 = Nodo(\"Si la luna es blanca, el sol no puede ser blanco.\")\n",
    "nodo6 = Nodo(\"Si el sol es negro o la luna es blanca.\")\n",
    "nodo7 = Nodo(\"la luna es negra o el sol es negro.\")\n",
    "nodo8 = Nodo(\"Si la luna no es blanca, entonces el sol es blanco.\")\n",
    "nodo9 = Nodo(\"El sol o la luna no pueden ser ambos negros.\")\n",
    "nodo10 = Nodo(\"Si el sol y la luna son blancos no es de día.\")\n",
    "\n",
    "nodo1.izquierda = nodo3\n",
    "nodo1.derecha = nodo2\n",
    "nodo3.izquierda = nodo4\n",
    "nodo3.derecha = nodo5\n",
    "nodo5.izquierda = nodo6\n",
    "nodo5.derecha = nodo7\n",
    "nodo7.izquierda = nodo8\n",
    "nodo7.derecha = nodo9\n",
    "nodo8.izquierda = nodo10\n",
    "\n",
    "def recorrer_arbol(nodo, si_phrases, no_si_phrases):\n",
    "    if nodo is not None:\n",
    "        recorrer_arbol(nodo.izquierda, si_phrases, no_si_phrases)\n",
    "        if nodo.regla.startswith(\"Si\"):\n",
    "            si_phrases.append(nodo.regla)\n",
    "        else:\n",
    "            no_si_phrases.append(nodo.regla)\n",
    "        recorrer_arbol(nodo.derecha, si_phrases, no_si_phrases)\n",
    "\n",
    "\n",
    "si_phrases = []\n",
    "no_si_phrases = []\n",
    "recorrer_arbol(nodo1, si_phrases, no_si_phrases)\n",
    "\n",
    "print(\"Aquí están las frases que empiezan con 'Si':\")\n",
    "for frase in si_phrases:\n",
    "    print(frase)\n",
    "\n",
    "\n",
    "print(\"\\nAquí están las frases que no empiezan con 'Si':\")\n",
    "for frase in no_si_phrases:\n",
    "    print(frase)\n",
    "\n",
    "tabla = []\n",
    "for i, frase in enumerate(si_phrases + no_si_phrases, start=1):\n",
    "    tabla.append((frase, i))"
   ]
  }
 ],
 "metadata": {
  "kernelspec": {
   "display_name": ".venv",
   "language": "python",
   "name": "python3"
  },
  "language_info": {
   "codemirror_mode": {
    "name": "ipython",
    "version": 3
   },
   "file_extension": ".py",
   "mimetype": "text/x-python",
   "name": "python",
   "nbconvert_exporter": "python",
   "pygments_lexer": "ipython3",
   "version": "3.12.3"
  }
 },
 "nbformat": 4,
 "nbformat_minor": 2
}
